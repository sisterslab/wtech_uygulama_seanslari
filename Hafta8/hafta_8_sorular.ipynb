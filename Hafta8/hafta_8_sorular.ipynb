{
 "cells": [
  {
   "cell_type": "markdown",
   "metadata": {},
   "source": [
    "### Algoritma Sorusu 1\n",
    "Bir liste üzerinde sıralama algoritmasını kullanarak listeyi sıralayınız."
   ]
  },
  {
   "cell_type": "markdown",
   "metadata": {},
   "source": [
    "### Algoritma Sorusu 2\n",
    "\n",
    "Fonksiyon bir integer array nums ve bir hedef target değişkeni almalı ve bizlere toplamı target olan indexleri dönmeli.\n",
    "\n",
    "Kurallar: Aynı index’teki değeri iki defa kullanamayız.\n",
    "\n",
    "Örnek\n",
    "\n",
    "```\n",
    "Parametreler: nums = [2,7,11,15], target = 9\n",
    "Dönen Değer: [0,1]\n",
    "Açıklama: nums[0] ve nums[1]'deki değerlerin toplamı 9 yaptığı için çıktımız [0, 1] oldu.\n",
    "\n",
    "Örnek\n",
    "Parametreler: nums = [3,2,4], target = 6\n",
    "Dönen Değer: [1,2]\n",
    "Açıklama: nums[1] ve nums[2]'deki değerlerin toplamı 6 yaptığı için çıktımız [1, 2] oldu.\n",
    "Not: Burada [0,0] çıktı olarak kabul edilemez. Çünkü aynı index'i kullanamayacağımız söylenmişti.\n",
    "\n",
    "Örnek\n",
    "Parametreler: nums = [3,2,4,1,3], target = 7\n",
    "Dönen Değer: [2,4]\n",
    "Açıklama: nums[2] ve nums[4]'deki değerlerin toplamı 7 yaptığı için çıktımız [2, 4] oldu.\n",
    "```"
   ]
  },
  {
   "cell_type": "markdown",
   "metadata": {},
   "source": [
    "### SoruXXX\n",
    "Ad, soyad,cinsiyet ve yaş alanlarından oluşan Person(kisi) adında bir sınıf oluşturunuz."
   ]
  },
  {
   "cell_type": "markdown",
   "metadata": {},
   "source": [
    "### Soru XXX\n",
    "Person sınıfını kalıtım alan ve maaş, şirket, departman, ülke alanlarını da içeren Employee(Calisan) adında yeni bir sınıf oluşturunuz."
   ]
  },
  {
   "cell_type": "markdown",
   "metadata": {},
   "source": [
    "### Soru XXX\n",
    "tempData.txt dosyasının ilk satırındaki verileri, oluşturduğunuz Person sınıfından bir nesne oluşturup onun içerisindeki ilgili alanlara yerleştiriniz. "
   ]
  },
  {
   "cell_type": "markdown",
   "metadata": {},
   "source": [
    "### Soru XXX\n",
    "tempData.txt dosyasındaki tüm verileri Person sınıfının nesnelerinden oluşan bir listede tutunuz. Sonrasında oluşturduğunuz liste üzerinde aşağıdaki işlemleri yapınız.\n",
    "- Sorun çıkarmaması için her satırdaki '\\n' karakterini '' ile replace ediniz. (line.replace('\\n',''))\n",
    "- Adı 'A' ile başlayanları ekrana yazdırınız.\n",
    "- Adı 'A' ile soyadı ise 'S' ile başlayanları ekrana yazdırınız.\n",
    "- Yaşı 30'dan büyük olanları ekrana yazdırınız.\n",
    "- Yaşı 40'tan büyük ve 50'den küçük olanları ekrana yazdırınız.\n",
    "- 'Research and Development' departmanında çalışanları ekrana yazdırınız.\n",
    "- 'India'da yaşayanları ekrana yazdırınız.\n",
    "- 'San Marino'da yaşayıp 'Sales' departmanında çalışanları ekrana yazdırınız.\n",
    "- 'Sales' departmanında çalışıp maaşı 30000'den yüksek olanları ekrana yazdırınız.\n",
    "- 'Apple Inc.' şirketinde çalışıp cinsiyeti kadın olanları ekrana yazdırınız.\n",
    "- 'Apple Inc.' şirketinde çalışıp maaşı 30000'den az olanları ekrana yazdırınız.\n",
    "- 'Sales' departmanında çalışanların oranını ekrana yazdırınız.\n",
    "- 'IT' departmanında çalışanların oranını yazdırınız.\n",
    "- 'IT' departmanında çalışan ve cinsiyeti kadın olanların oranını ekrana yazdırınız.\n",
    "- 'IT' departmanında çalışan ve cinsiyeti kadın olanların, 'IT' departmanında çalışan ve cinsiyeti erkek olaranlara oranını ekrana yazdırınız."
   ]
  }
 ],
 "metadata": {
  "kernelspec": {
   "display_name": "Python 3.10.5 64-bit",
   "language": "python",
   "name": "python3"
  },
  "language_info": {
   "name": "python",
   "version": "3.10.5"
  },
  "orig_nbformat": 4,
  "vscode": {
   "interpreter": {
    "hash": "d7cdd4bd10924f2a5600f3e3f8ff8c4f45ce4e033c01be5511cc2e78bc05c683"
   }
  }
 },
 "nbformat": 4,
 "nbformat_minor": 2
}
