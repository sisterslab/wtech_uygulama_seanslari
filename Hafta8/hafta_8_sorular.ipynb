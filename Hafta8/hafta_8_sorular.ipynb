{
 "cells": [
  {
   "cell_type": "markdown",
   "metadata": {},
   "source": [
    "### SoruXXX\n",
    "Ad, soyad,cinsiyet ve yaş alanlarından oluşan Person(kisi) adında bir sınıf oluşturunuz."
   ]
  },
  {
   "cell_type": "markdown",
   "metadata": {},
   "source": [
    "### Soru XXX\n",
    "Person sınıfını kalıtım alan ve maaş, şirket, departman, ülke alanlarını da içeren Employee(Calisan) adında yeni bir sınıf oluşturunuz."
   ]
  },
  {
   "cell_type": "markdown",
   "metadata": {},
   "source": [
    "### Soru XXX\n",
    "tempData.txt dosyasının ilk satırındaki verileri, oluşturduğunuz Person sınıfından bir nesne oluşturup onun içerisindeki ilgili alanlara yerleştiriniz. "
   ]
  },
  {
   "cell_type": "markdown",
   "metadata": {},
   "source": [
    "### Soru XXX\n",
    "tempData.txt dosyasındaki tüm verileri Person sınıfının nesnelerinden oluşan bir listede tutunuz. Sonrasında oluşturduğunuz liste üzerinde aşağıdaki işlemleri yapınız.\n",
    "- Sorun çıkarmaması için her satırdaki '\\n' karakterini '' ile replace ediniz. (line.replace('\\n',''))\n",
    "- Adı 'A' ile başlayanları ekrana yazdırınız.\n",
    "- Adı 'A' ile soyadı ise 'S' ile başlayanları ekrana yazdırınız.\n",
    "- Yaşı 30'dan büyük olanları ekrana yazdırınız.\n",
    "- Yaşı 40'tan büyük ve 50'den küçük olanları ekrana yazdırınız.\n",
    "- 'Research and Development' departmanında çalışanları ekrana yazdırınız.\n",
    "- 'India'da yaşayanları ekrana yazdırınız.\n",
    "- 'San Marino'da yaşayıp 'Sales' departmanında çalışanları ekrana yazdırınız.\n",
    "- 'Sales' departmanında çalışıp maaşı 30000'den yüksek olanları ekrana yazdırınız.\n",
    "- 'Apple Inc.' şirketinde çalışıp cinsiyeti kadın olanları ekrana yazdırınız.\n",
    "- 'Apple Inc.' şirketinde çalışıp maaşı 30000'den az olanları ekrana yazdırınız.\n",
    "- 'Sales' departmanında çalışanların oranını ekrana yazdırınız.\n",
    "- 'IT' departmanında çalışanların oranını yazdırınız.\n",
    "- 'IT' departmanında çalışan ve cinsiyeti kadın olanların oranını ekrana yazdırınız.\n",
    "- 'IT' departmanında çalışan ve cinsiyeti kadın olanların, 'IT' departmanında çalışan ve cinsiyeti erkek olaranlara oranını ekrana yazdırınız."
   ]
  }
 ],
 "metadata": {
  "language_info": {
   "name": "python"
  },
  "orig_nbformat": 4
 },
 "nbformat": 4,
 "nbformat_minor": 2
}
