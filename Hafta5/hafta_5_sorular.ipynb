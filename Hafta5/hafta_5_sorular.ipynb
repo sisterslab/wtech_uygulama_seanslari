{
 "cells": [
  {
   "cell_type": "markdown",
   "metadata": {},
   "source": [
    "### SORU XXX:\n",
    "\n",
    "- Aşağıdaki stringde verilen değeri, büyük harfe dönüştürmek ve tersine çevirmek için bir lambda fonksiyonu kullanın.\n",
    "    - SistersLab girdisi için beklenen çıktı 'BALSRETSİS'"
   ]
  },
  {
   "cell_type": "markdown",
   "metadata": {},
   "source": [
    "### SORU XXX:\n",
    "- Girilen değer 5-10 arasında ise sayının 5 katını, 10'dan büyükse 10 katını dönen bir lambda fonksiyonu ve normal fonksiyon yazın.\n"
   ]
  },
  {
   "cell_type": "markdown",
   "metadata": {},
   "source": [
    "### SORU XXX:\n",
    "- Listedeki sayılardan tek olanları lambda fonksiyonu kullanarak yazdırınız.\n",
    "\n",
    "```python\n",
    "list_ = [34, 12, 64, 57, 75, 13, 63, 3, 23, 232, 3453, 111211]  \n",
    "```\n"
   ]
  },
  {
   "cell_type": "markdown",
   "metadata": {},
   "source": [
    "### Soru XXX\n",
    "[0,1,2,3,4,5,6,7,9,10,12] Verilen listenin\n",
    "- 3.indexi ile 6.indexi arasındaki değerleri yazdırınız.\n",
    "- Listeyi tersten yazdırınız.\n",
    "- Listeye 10'dan sonra olacak şekilde 11 değerini ekleyiniz.\n",
    "- Listenin en başına -15 değerini ekleyiniz.\n",
    "- Listenin sonundaki değeri siliniz ve ekrana yazdırınız.\n",
    "- Listeye 5.indexten başlayarak 50 ve 51 değerlerini ekleyiniz.\n",
    "- Listedeki her bir değeri, değerin 10 ile çarpımı ile güncelleyiniz.\n",
    "- Listedeki her bir değer için, eğer değer 2'nin katı ise değeri değerin 5'e bölümü ile 2'nin katı değilse değere 2 ekleyerek güncelleyiniz."
   ]
  },
  {
   "cell_type": "markdown",
   "metadata": {},
   "source": [
    "### Soru XXX\n",
    "Kendisine parametre olarak verilen listenin içerisindeki sayıları toplayan ve bu sonucu dönen bir fonksiyon yazınız."
   ]
  },
  {
   "cell_type": "markdown",
   "metadata": {},
   "source": [
    "### Soru XXX\n",
    "Kendisine parametre olarak verilen listenin içerisindeki sayıları çarpan ve bu sonucu dönen bir fonksiyon yazınız."
   ]
  },
  {
   "cell_type": "markdown",
   "metadata": {},
   "source": [
    "### Soru XXX\n",
    "Kendisine parametre olarak verilen listenin içerisindeki sayıların 5 ile bölümünden kalanlarının toplamını dönen bir fonksiyon yazınız."
   ]
  },
  {
   "cell_type": "markdown",
   "metadata": {},
   "source": [
    "### Soru XXX\n",
    "Kendisine parametre olarak verilen listenin içerisindeki sayılardan en büyüğünü ve en küçüğünü döndüren bir fonksiyon yazınız."
   ]
  },
  {
   "cell_type": "markdown",
   "metadata": {},
   "source": [
    "### Soru XXX\n",
    "Kendisine parametre olarak verilen listenin içerisindeki sayılardan, kendisine parametre olarak verilen sayıya tam bölünenlerin toplamını döndüren bir fonksiyon yazınız. Fonksiyon aşağıdaki gibi görünebilir.\n",
    "\n",
    "```python\n",
    "def tam_bolunenleri_topla(liste, bolunecek_sayi)\n",
    "    return tam_bolunenlerin_toplami\n",
    "```"
   ]
  },
  {
   "cell_type": "markdown",
   "metadata": {},
   "source": [
    "### Soru XXX\n",
    "-1000 ile 1000 aralığında random sayılardan oluşan 250 elemanlı bir liste oluşturunuz. Sonrasında oluşturduğunuz bu liste ile aşağıdaki işlemleri yapınız.\n",
    "1. Bu liste içerisinde kaç adet pozitif, kaç adet negatif sayı olduğunu bulunuz.\n",
    "2. Bu liste içerisinde kaç adet tek, kaç adet çift sayı olduğunu bulunuz.\n",
    "3. Bu liste içerisinde 3'e tam bölünen sayıların toplamını bulunuz.\n",
    "4. Bu liste içerisinde 5'e tam bölünen sayıların toplamını bulunuz.\n",
    "5. Bu liste içerisinde 15'e tam bölünen sayıların toplamını bulunuz.\n",
    "6. Bu liste içerisindeki çift sayıların ve tek sayıların toplamını bulunuz.\n",
    "7. Bu liste içerisinde çift indexte bulunan sayıların toplamını bulunuz.\n",
    "8. Listedeki her bir değer için, eğer değer pozitif ise 10 çıkarınız değilse 20 ekleyiniz.\n",
    "9. Listedeki pozitif ve negatif değerlerin en büyüğünü ayrı ayrı bulunuz.\n"
   ]
  },
  {
   "cell_type": "markdown",
   "metadata": {},
   "source": [
    "### Soru XXX\n",
    "Kullanıcının girdiği ad, soyad ve yaş bilgilerini tutan bir dictionary oluşturunuz.\n",
    "- Kullanıcının ad değerini, büyük harfler ile güncelleyiniz. \n",
    "- Kullanıcının yaş değerine 2 ekleyiniz.\n",
    "- Dictionary'e kullanıcının en sevdiği rengi ekleyiniz key-value şeklinde ekleyiniz."
   ]
  },
  {
   "cell_type": "markdown",
   "metadata": {},
   "source": [
    "### Soru XXX\n",
    "Kullanıcının verdiği aralığa göre, key değerleri o anki sayı, value değerleri o anki sayının karesi olan bir dictionary oluşturunuz.\n",
    "\n",
    "Örnek olarak, kullanıcı aralık olarak 2 ve 7 girmiş olsun. Bizden beklenen dictionary şu şekilde olmalıdır;\n",
    "\n",
    "```python\n",
    "{2: 4, 3: 9, 4: 16, 5: 25, 6:36, 7:49}\n",
    "```"
   ]
  },
  {
   "cell_type": "markdown",
   "metadata": {},
   "source": [
    "### Soru XXX\n",
    "Aşağıda verilen liste ile istenilen işlemleri yapınız.\n",
    "- Yaşı 20'den büyük olanları ekrana yazdırınız.\n",
    "- Adı 'A' ile başlayanları ekrana yazdırınız.\n",
    "- Soyadı 'J' ile başlayanları ekrana yazdırınız.\n",
    "- Adı 'C' ile soyadı 'A' ile başlayanları ekrana yazdırınız.\n",
    "- Adının içinde 'A' ahrfi geçenleri ekrana yazdırınız.\n",
    "- Yaşı tek sayı olanları ekrana yazdırınız."
   ]
  },
  {
   "cell_type": "code",
   "execution_count": 10,
   "metadata": {},
   "outputs": [],
   "source": [
    "myUsers = [\n",
    "    {\n",
    "        \"Name\":\"Rosalind\",\n",
    "        \"Surname\": \"Rich\",\n",
    "        \"Age\": 23\n",
    "    }\n",
    "    ,{\n",
    "        \"Name\":\"Annika\",\n",
    "        \"Surname\": \"Keenan\",\n",
    "        \"Age\": 28\n",
    "    }\n",
    "    ,{\n",
    "        \"Name\":\"Emillie\",\n",
    "        \"Surname\": \"Plummer\",\n",
    "        \"Age\": 17\n",
    "    }\n",
    "    ,{\n",
    "        \"Name\":\"Kourtney\",\n",
    "        \"Surname\": \"Pate\",\n",
    "        \"Age\": 30\n",
    "    }\n",
    "    ,{\n",
    "        \"Name\":\"Virgil\",\n",
    "        \"Surname\": \"Solomon\",\n",
    "        \"Age\": 40\n",
    "    }\n",
    "    ,{\n",
    "        \"Name\":\"Bobby\",\n",
    "        \"Surname\": \"Jordan\",\n",
    "        \"Age\":33\n",
    "    }\n",
    "    ,{\n",
    "        \"Name\":\"Alfie\",\n",
    "        \"Surname\":\"James Robson\",\n",
    "        \"Age\": 16\n",
    "    } \n",
    "    ,{\n",
    "        \"Name\":\"Isla\",\n",
    "        \"Surname\":\"Grace Tran\",\n",
    "        \"Age\": 64\n",
    "    } \n",
    "    ,{\n",
    "        \"Name\":\"Arif\",\n",
    "        \"Surname\": \"Rivas\",\n",
    "        \"Age\": 43\n",
    "    }\n",
    "    ,{\n",
    "        \"Name\":\"Zakaria\",\n",
    "        \"Surname\": \"Whitehead\",\n",
    "        \"Age\": 82\n",
    "    }\n",
    "    ,{\n",
    "        \"Name\":\"Casper\",\n",
    "        \"Surname\": \"Velasquez\",\n",
    "        \"Age\": 57\n",
    "    }\n",
    "    ,{\n",
    "        \"Name\":\"Caoimhe\",\n",
    "        \"Surname\": \"Ali\",\n",
    "        \"Age\": 34\n",
    "    }\n",
    "    ,{\n",
    "        \"Name\":\"Viola\",\n",
    "        \"Surname\": \"Shepherd\",\n",
    "        \"Age\": 18\n",
    "    }\n",
    "]"
   ]
  }
 ],
 "metadata": {
  "kernelspec": {
   "display_name": "Python 3.10.5 64-bit",
   "language": "python",
   "name": "python3"
  },
  "language_info": {
   "codemirror_mode": {
    "name": "ipython",
    "version": 3
   },
   "file_extension": ".py",
   "mimetype": "text/x-python",
   "name": "python",
   "nbconvert_exporter": "python",
   "pygments_lexer": "ipython3",
   "version": "3.10.5"
  },
  "orig_nbformat": 4,
  "vscode": {
   "interpreter": {
    "hash": "d7cdd4bd10924f2a5600f3e3f8ff8c4f45ce4e033c01be5511cc2e78bc05c683"
   }
  }
 },
 "nbformat": 4,
 "nbformat_minor": 2
}
