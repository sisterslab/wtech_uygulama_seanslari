{
 "cells": [
  {
   "cell_type": "markdown",
   "metadata": {},
   "source": [
    "### Soru XXX\n",
    "Kullanıcının girdiği ad, soyad ve yaş bilgilerini tutan bir dictionary oluşturunuz.\n",
    "- Kullanıcının ad değerini, büyük harfler ile güncelleyiniz. \n",
    "- Kullanıcının yaş değerine 2 ekleyiniz.\n",
    "- Dictionary'e kullanıcının en sevdiği rengi ekleyiniz key-value şeklinde ekleyiniz.\n",
    "- Kullanıcının adını ve soyadını kapsayan yeni bir key-value ekleyiniz.\n",
    "- Kullanıcının ad değerini dictionary'den kaldırınız."
   ]
  },
  {
   "cell_type": "markdown",
   "metadata": {},
   "source": [
    "### Soru XXX\n",
    "Kullanıcının verdiği aralığa göre, key değerleri o anki sayı, value değerleri o anki sayının karesi olan bir dictionary oluşturunuz.\n",
    "\n",
    "Örnek olarak, kullanıcı aralık olarak 2 ve 7 girmiş olsun. Bizden beklenen dictionary şu şekilde olmalıdır;\n",
    "\n",
    "```python\n",
    "{2: 4, 3: 9, 4: 16, 5: 25, 6:36, 7:49}\n",
    "```"
   ]
  },
  {
   "cell_type": "markdown",
   "metadata": {},
   "source": [
    "### Soru XXX\n",
    "Aşağıda verilen liste ile istenilen işlemleri yapınız.\n",
    "- Yaşı 20'den büyük olanları ekrana yazdırınız.\n",
    "- Adı 'A' ile başlayanları ekrana yazdırınız.\n",
    "- Soyadı 'J' ile başlayanları ekrana yazdırınız.\n",
    "- Adı 'C' ile soyadı 'A' ile başlayanları ekrana yazdırınız.\n",
    "- Adının içinde 'A' ahrfi geçenleri ekrana yazdırınız.\n",
    "- Yaşı tek sayı olanları ekrana yazdırınız.\n",
    "- Kullanının yaşını, (kullanıcının yaşı + kullanıcının soyadının uzunluğu) şeklinde güncelleyiniz.\n",
    "- Kullanıcının adını ve soyadını içeren FullName adında yeni bir key-value pair oluşturunuz."
   ]
  },
  {
   "cell_type": "code",
   "execution_count": 1,
   "metadata": {},
   "outputs": [],
   "source": [
    "myUsers = [\n",
    "    {\n",
    "        \"Name\":\"Rosalind\",\n",
    "        \"Surname\": \"Rich\",\n",
    "        \"Age\": 23\n",
    "    }\n",
    "    ,{\n",
    "        \"Name\":\"Annika\",\n",
    "        \"Surname\": \"Keenan\",\n",
    "        \"Age\": 28\n",
    "    }\n",
    "    ,{\n",
    "        \"Name\":\"Emillie\",\n",
    "        \"Surname\": \"Plummer\",\n",
    "        \"Age\": 17\n",
    "    }\n",
    "    ,{\n",
    "        \"Name\":\"Kourtney\",\n",
    "        \"Surname\": \"Pate\",\n",
    "        \"Age\": 30\n",
    "    }\n",
    "    ,{\n",
    "        \"Name\":\"Virgil\",\n",
    "        \"Surname\": \"Solomon\",\n",
    "        \"Age\": 40\n",
    "    }\n",
    "    ,{\n",
    "        \"Name\":\"Bobby\",\n",
    "        \"Surname\": \"Jordan\",\n",
    "        \"Age\":33\n",
    "    }\n",
    "    ,{\n",
    "        \"Name\":\"Alfie\",\n",
    "        \"Surname\":\"James Robson\",\n",
    "        \"Age\": 16\n",
    "    } \n",
    "    ,{\n",
    "        \"Name\":\"Isla\",\n",
    "        \"Surname\":\"Grace Tran\",\n",
    "        \"Age\": 64\n",
    "    } \n",
    "    ,{\n",
    "        \"Name\":\"Arif\",\n",
    "        \"Surname\": \"Rivas\",\n",
    "        \"Age\": 43\n",
    "    }\n",
    "    ,{\n",
    "        \"Name\":\"Zakaria\",\n",
    "        \"Surname\": \"Whitehead\",\n",
    "        \"Age\": 82\n",
    "    }\n",
    "    ,{\n",
    "        \"Name\":\"Casper\",\n",
    "        \"Surname\": \"Velasquez\",\n",
    "        \"Age\": 57\n",
    "    }\n",
    "    ,{\n",
    "        \"Name\":\"Caoimhe\",\n",
    "        \"Surname\": \"Ali\",\n",
    "        \"Age\": 34\n",
    "    }\n",
    "    ,{\n",
    "        \"Name\":\"Viola\",\n",
    "        \"Surname\": \"Shepherd\",\n",
    "        \"Age\": 18\n",
    "    }\n",
    "]"
   ]
  },
  {
   "cell_type": "markdown",
   "metadata": {},
   "source": [
    "### Soru XXX\n",
    "Kullanıcının girdiği string içerisindeki unique karakterleri ekrana yazdırınız."
   ]
  },
  {
   "cell_type": "markdown",
   "metadata": {},
   "source": [
    "### Soru XXX\n",
    "Verilen iki set için aşağıdaki işlemleri yapınız;\n",
    "- İki set arasındaki farkı ekrana yazdırınız.\n",
    "- İki set içerisinde ortak olanları ekrana yazdırınız.\n",
    "- İki seti birleştirip ekrana yazdırınız.\n",
    "- İlk set içerisinde olmayıp ikinci set içerisinde olan değerleri ekrana yazdırınız.\n",
    "- İkinci set içerisinde olmayıp ilk set içerisinde olan değerleri ekrana yazdırınız.\n",
    "\n",
    "```python\n",
    "set1 = {True, False, 1, 2, 3, 4, 's', 'i', 's', 't', 'e'}\n",
    "set2 = {'r', 's', 'l', 'a', 'b', None, 6, 7, 8, 9}\n",
    "```"
   ]
  },
  {
   "cell_type": "markdown",
   "metadata": {},
   "source": [
    "### Soru XXX\n",
    "Kullanıcıdan alınan string ifadedeki karakterlerin kaç kere tekrar ettiğini tutan bir dictionary oluşturunuz.\n",
    "\n",
    "sisterslab için örnek çıktı şu şekilde olmalıdır \n",
    "\n",
    "```python\n",
    "{'s': 3, 'r': 1, 'e': 1, 'l': 1, 'b': 1, 't': 1, 'a': 1, 'i': 1}\n",
    "```"
   ]
  }
 ],
 "metadata": {
  "kernelspec": {
   "display_name": "Python 3.10.5 64-bit",
   "language": "python",
   "name": "python3"
  },
  "language_info": {
   "codemirror_mode": {
    "name": "ipython",
    "version": 3
   },
   "file_extension": ".py",
   "mimetype": "text/x-python",
   "name": "python",
   "nbconvert_exporter": "python",
   "pygments_lexer": "ipython3",
   "version": "3.10.5"
  },
  "orig_nbformat": 4,
  "vscode": {
   "interpreter": {
    "hash": "d7cdd4bd10924f2a5600f3e3f8ff8c4f45ce4e033c01be5511cc2e78bc05c683"
   }
  }
 },
 "nbformat": 4,
 "nbformat_minor": 2
}
