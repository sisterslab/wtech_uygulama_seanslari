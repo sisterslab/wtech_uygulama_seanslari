{
 "cells": [
  {
   "cell_type": "markdown",
   "metadata": {},
   "source": [
    "Düzensiz ve duplicate veriden oluşan \"all_data.txt\" dosyası üzerinde yapılacak olan işlemler;\n",
    "\n",
    "- Bütün text küçük harfe çevrilecek\n",
    "- Türkçe karakterler replace edilecek\n",
    "- ş -> s\n",
    "- ı -> i\n",
    "- ö -> o\n",
    "- ğ -> g\n",
    "- ç -> c\n",
    "- ü -> u\n",
    "- Noktalama işaretleri kaldırılacak\n",
    "- Bir satır tamamen sayılardan oluşuyorsa satırı yeni dosyaya ekleme\n",
    "- Her satırda bir cümle olacak şekilde satırları düzenleyin\n",
    "- duplicate veri barındırmayacak"
   ]
  }
 ],
 "metadata": {
  "kernelspec": {
   "display_name": "Python 3.10.5 64-bit",
   "language": "python",
   "name": "python3"
  },
  "language_info": {
   "name": "python",
   "version": "3.10.5"
  },
  "orig_nbformat": 4,
  "vscode": {
   "interpreter": {
    "hash": "d7cdd4bd10924f2a5600f3e3f8ff8c4f45ce4e033c01be5511cc2e78bc05c683"
   }
  }
 },
 "nbformat": 4,
 "nbformat_minor": 2
}
