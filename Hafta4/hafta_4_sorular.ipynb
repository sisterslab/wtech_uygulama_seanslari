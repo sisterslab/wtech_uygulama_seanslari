{
 "cells": [
  {
   "cell_type": "markdown",
   "metadata": {},
   "source": [
    "### Soru XXX\n",
    "Aşağıdaki şekli çizdiriniz.\n",
    "- Aşağıdaki şekilde 10 satır ve kolon vardır. Fakat kullanıcıdan girilen değere göre değişiklik gösterebilir.\n",
    "\n",
    "```python\n",
    "**********\n",
    "*        *\n",
    "*        *\n",
    "*        *\n",
    "*        *\n",
    "*        *\n",
    "*        *\n",
    "*        *\n",
    "*        *\n",
    "**********\n",
    "```"
   ]
  },
  {
   "cell_type": "markdown",
   "metadata": {},
   "source": [
    "### Soru XXX\n",
    "Aşağıdaki şekli çizdiriniz.\n",
    "- Aşağıdaki şekilde 20 satır ve kolon vardır. Fakat kullanıcıdan girilen değere göre değişiklik gösterebilir.\n",
    "- Şekil tek sayıda satır ve kolon ile beraber çizilmeye çalışıldığında düzgün sonuç vermeyebilir. Bundan dolayı kullanıcıdan alınan değeri 2 ile çarpabilirsiniz.\n",
    "```python\n",
    "********************\n",
    "**                **\n",
    "* *              * *\n",
    "*  *            *  *\n",
    "*   *          *   *\n",
    "*    *        *    *\n",
    "*     *      *     *\n",
    "*      *    *      *\n",
    "*       *  *       *\n",
    "*        **        *\n",
    "*        **        *\n",
    "*       *  *       *\n",
    "*      *    *      *\n",
    "*     *      *     *\n",
    "*    *        *    *\n",
    "*   *          *   *\n",
    "*  *            *  *\n",
    "* *              * *\n",
    "**                **\n",
    "********************\n",
    "```"
   ]
  },
  {
   "cell_type": "markdown",
   "metadata": {},
   "source": [
    "### Soru XXX\n",
    "Kullanıcıdan alınan sayının faktöriyelini hesaplayan bir fonksiyon yazınız."
   ]
  },
  {
   "cell_type": "markdown",
   "metadata": {},
   "source": [
    "### Soru XXX\n",
    "Kullanıcıdan alınan sayının faktoriyeli hesaplayan recursive bir fonksiyon yazınız."
   ]
  },
  {
   "cell_type": "markdown",
   "metadata": {},
   "source": [
    "### Soru XXX\n",
    "Kullanıcıdan alınan iki sayının ebob ve ekok değerlerini hesaplayan ve bu değerleri dönen bir fonksiyon yazınız.\n",
    "- Fonksiyon parametre olarak kullanıcının girdiği 2 sayıyı almalı.\n",
    "- Fonksiyon ebob ve ekok değerlerini dönmeli."
   ]
  },
  {
   "cell_type": "markdown",
   "metadata": {},
   "source": [
    "### Soru XXX\n",
    "\n",
    "Kendisine verilen tam sayının mükemmel sayı olup olmadığını dönen bir fonksiyon yazınız.\n",
    "- Mükemmel sayı, kendisi hariç pozitif tam bölenlerinin toplamı kendisine eşit olan sayıdır. Örneğin 28 sayısının tam bölenlerine bakalım: 1, 2, 4, 7, 14 bu sayıların toplamı 28'e eşit olduğu için 28 mükemmel sayıdır.\n"
   ]
  },
  {
   "cell_type": "markdown",
   "metadata": {},
   "source": [
    "### Soru XXX\n",
    "\n",
    "Verilen aralıkta bulunan mükemmel sayıları ekrana yazdıran bir fonksiyon yazınız. "
   ]
  },
  {
   "cell_type": "markdown",
   "metadata": {},
   "source": [
    "### Soru XXX\n",
    "Kendisine verilen 3 sayının en büyüğünü ve en küçüğünü dönen bir fonksiyon yazınız."
   ]
  }
 ],
 "metadata": {
  "kernelspec": {
   "display_name": "Python 3.10.5 64-bit",
   "language": "python",
   "name": "python3"
  },
  "language_info": {
   "codemirror_mode": {
    "name": "ipython",
    "version": 3
   },
   "file_extension": ".py",
   "mimetype": "text/x-python",
   "name": "python",
   "nbconvert_exporter": "python",
   "pygments_lexer": "ipython3",
   "version": "3.10.5"
  },
  "orig_nbformat": 4,
  "vscode": {
   "interpreter": {
    "hash": "d7cdd4bd10924f2a5600f3e3f8ff8c4f45ce4e033c01be5511cc2e78bc05c683"
   }
  }
 },
 "nbformat": 4,
 "nbformat_minor": 2
}
