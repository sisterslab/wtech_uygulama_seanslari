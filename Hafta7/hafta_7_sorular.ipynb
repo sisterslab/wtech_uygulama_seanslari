{
 "cells": [
  {
   "cell_type": "markdown",
   "metadata": {},
   "source": [
    "### Soru XXX\n",
    "Örnek olarak verilen example.txt dosyasını\n",
    "\n",
    "- Read\n",
    "- Append\n",
    "- Write\n",
    "\n",
    "modlarında açınız."
   ]
  },
  {
   "cell_type": "markdown",
   "metadata": {},
   "source": [
    "### Soru XXX\n",
    "Kullanıcıdan ad ve soyad değerlerini alıp, bu değerleri example.txt dosyasına yazdırınız."
   ]
  },
  {
   "cell_type": "markdown",
   "metadata": {},
   "source": [
    "### Soru XXX\n",
    "Kullanıcıdan yaş değerini alıp bu değeri example.txt dosyasına, dosyadaki verileri silmeden yazınız. "
   ]
  },
  {
   "cell_type": "markdown",
   "metadata": {},
   "source": [
    "### Soru XXX\n",
    "example.txt dosyasının ilk 5 satırını okuyup ekrana yazdırınız."
   ]
  },
  {
   "cell_type": "markdown",
   "metadata": {},
   "source": [
    "### SoruXXX\n",
    "Ad, soyad,cinsiyet ve yaş alanlarından oluşan Person(kisi) adında bir sınıf oluşturunuz."
   ]
  },
  {
   "cell_type": "markdown",
   "metadata": {},
   "source": [
    "### Soru XXX\n",
    "Person sınıfını kalıtım alan ve maaş, şirket, departman, ülke alanlarını da içeren Employee(Calisan) adında yeni bir sınıf oluşturunuz."
   ]
  },
  {
   "cell_type": "markdown",
   "metadata": {},
   "source": [
    "### Soru XXX\n",
    "tempData.txt dosyasının ilk satırındaki verileri, oluşturduğunuz Person sınıfından bir nesne oluşturup onun içerisindeki ilgili alanlara yerleştiriniz. "
   ]
  },
  {
   "cell_type": "markdown",
   "metadata": {},
   "source": [
    "### Soru XXX\n",
    "tempData.txt dosyasındaki tüm verileri Person sınıfının nesnelerinden oluşan bir listede tutunuz. Sonrasında oluşturduğunuz liste üzerinde aşağıdaki işlemleri yapınız.\n",
    "- Sorun çıkarmaması için her satırdaki '\\n' karakterini '' ile replace ediniz. (line.replace('\\n',''))\n",
    "- Adı 'A' ile başlayanları ekrana yazdırınız.\n",
    "- Adı 'A' ile soyadı ise 'S' ile başlayanları ekrana yazdırınız.\n",
    "- Yaşı 30'dan büyük olanları ekrana yazdırınız.\n",
    "- Yaşı 40'tan büyük ve 50'den küçük olanları ekrana yazdırınız.\n",
    "- 'Research and Development' departmanında çalışanları ekrana yazdırınız.\n",
    "- 'India'da yaşayanları ekrana yazdırınız.\n",
    "- 'San Marino'da yaşayıp 'Sales' departmanında çalışanları ekrana yazdırınız.\n",
    "- 'Sales' departmanında çalışıp maaşı 30000'den yüksek olanları ekrana yazdırınız.\n",
    "- 'Apple Inc.' şirketinde çalışıp cinsiyeti kadın olanları ekrana yazdırınız.\n",
    "- 'Apple Inc.' şirketinde çalışıp maaşı 30000'den az olanları ekrana yazdırınız.\n",
    "- 'Sales' departmanında çalışanların oranını ekrana yazdırınız.\n",
    "- 'IT' departmanında çalışanların oranını yazdırınız.\n",
    "- 'IT' departmanında çalışan ve cinsiyeti kadın olanların oranını ekrana yazdırınız.\n",
    "- 'IT' departmanında çalışan ve cinsiyeti kadın olanların, 'IT' departmanında çalışan ve cinsiyeti erkek olaranlara oranını ekrana yazdırınız."
   ]
  },
  {
   "cell_type": "code",
   "execution_count": 35,
   "metadata": {},
   "outputs": [
    {
     "name": "stdout",
     "output_type": "stream",
     "text": [
      "0.5238095238095238\n"
     ]
    }
   ],
   "source": []
  },
  {
   "cell_type": "markdown",
   "metadata": {},
   "source": [
    "\n"
   ]
  }
 ],
 "metadata": {
  "kernelspec": {
   "display_name": "Python 3.10.5 64-bit",
   "language": "python",
   "name": "python3"
  },
  "language_info": {
   "codemirror_mode": {
    "name": "ipython",
    "version": 3
   },
   "file_extension": ".py",
   "mimetype": "text/x-python",
   "name": "python",
   "nbconvert_exporter": "python",
   "pygments_lexer": "ipython3",
   "version": "3.10.5"
  },
  "orig_nbformat": 4,
  "vscode": {
   "interpreter": {
    "hash": "d7cdd4bd10924f2a5600f3e3f8ff8c4f45ce4e033c01be5511cc2e78bc05c683"
   }
  }
 },
 "nbformat": 4,
 "nbformat_minor": 2
}
