{
 "cells": [
  {
   "cell_type": "markdown",
   "metadata": {},
   "source": [
    "### Soru XXX\n",
    "Örnek olarak verilen example.txt dosyasını\n",
    "\n",
    "- Read\n",
    "- Append\n",
    "- Write\n",
    "\n",
    "modlarında açınız."
   ]
  },
  {
   "cell_type": "markdown",
   "metadata": {},
   "source": [
    "### Soru XXX\n",
    "Kullanıcıdan ad ve soyad değerlerini alıp, bu değerleri example.txt dosyasına yazdırınız."
   ]
  },
  {
   "cell_type": "markdown",
   "metadata": {},
   "source": [
    "### Soru XXX\n",
    "Kullanıcıdan yaş değerini alıp bu değeri example.txt dosyasına, dosyadaki verileri silmeden yazınız. "
   ]
  },
  {
   "cell_type": "markdown",
   "metadata": {},
   "source": [
    "### Soru XXX\n",
    "example.txt dosyasının ilk 5 satırını okuyup ekrana yazdırınız."
   ]
  },
  {
   "cell_type": "markdown",
   "metadata": {},
   "source": [
    "### Soru XXX\n",
    "tempData.txt dosyasındaki tüm satırları \n",
    "```python\n",
    "{\"Name\" : \"\", \"Surname\" : \"\", \"Gender\" : \"\", \"Age\" : \"\", \"Salary\" : \"\", \"Company\" : \"\", \"Department\" : \"\", \"Country\" : \"\" } \n",
    "```\n",
    "tipindeki bir dictionary içerisine atıp sonrasında bunları bir listede toplayınız. Oluşturduğunuz liste üzerinde aşağıdaki işlemleri yapınız.\n",
    "1. Sorun çıkarmaması için her satırdaki '\\n' karakterini '' ile replace ediniz. (line.replace('\\n',''))\n",
    "2. Adı 'A' ile başlayanları ekrana yazdırınız.\n",
    "3. Adı 'A' ile soyadı ise 'S' ile başlayanları ekrana yazdırınız.\n",
    "4. Yaşı 30'dan büyük olanları ekrana yazdırınız.\n",
    "5. Yaşı 40'tan büyük ve 50'den küçük olanları ekrana yazdırınız.\n",
    "6. 'Research and Development' departmanında çalışanları ekrana yazdırınız.\n",
    "7. 'India'da yaşayanları ekrana yazdırınız.\n",
    "8. 'San Marino'da yaşayıp 'Sales' departmanında çalışanları ekrana yazdırınız.\n",
    "9. 'Sales' departmanında çalışıp maaşı 30000'den yüksek olanları ekrana yazdırınız.\n",
    "10. 'Apple Inc.' şirketinde çalışıp cinsiyeti kadın olanları ekrana yazdırınız.\n",
    "11. 'Apple Inc.' şirketinde çalışıp maaşı 30000'den az olanları ekrana yazdırınız.\n",
    "12. 'Sales' departmanında çalışanların oranını ekrana yazdırınız.\n",
    "13. 'IT' departmanında çalışanların oranını yazdırınız.\n",
    "14. 'IT' departmanında çalışan ve cinsiyeti kadın olanların oranını ekrana yazdırınız.\n",
    "15. 'IT' departmanında çalışan ve cinsiyeti kadın olanların, 'IT' departmanında çalışan ve cinsiyeti erkek olaranlara oranını ekrana yazdırınız.\n",
    "16. 'IT' departmanında çalışanların ortalama maaşını yazdırınız.\n",
    "17. 'Sales' departmanında çalışanların ortalama yaşını yazdırınız."
   ]
  }
 ],
 "metadata": {
  "kernelspec": {
   "display_name": "Python 3.10.5 64-bit",
   "language": "python",
   "name": "python3"
  },
  "language_info": {
   "codemirror_mode": {
    "name": "ipython",
    "version": 3
   },
   "file_extension": ".py",
   "mimetype": "text/x-python",
   "name": "python",
   "nbconvert_exporter": "python",
   "pygments_lexer": "ipython3",
   "version": "3.10.5"
  },
  "orig_nbformat": 4,
  "vscode": {
   "interpreter": {
    "hash": "d7cdd4bd10924f2a5600f3e3f8ff8c4f45ce4e033c01be5511cc2e78bc05c683"
   }
  }
 },
 "nbformat": 4,
 "nbformat_minor": 2
}
