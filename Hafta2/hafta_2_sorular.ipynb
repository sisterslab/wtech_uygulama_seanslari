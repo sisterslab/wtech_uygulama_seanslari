{
 "cells": [
  {
   "cell_type": "markdown",
   "metadata": {},
   "source": [
    "### Soru 1\n",
    "\n",
    "3 tane farklı değişken tanımlayıp bu değişkenlerin hepsine aynı değeri atınız ve bunu olabilecek en kısa yoldan yapınız :)\n"
   ]
  },
  {
   "cell_type": "markdown",
   "metadata": {},
   "source": [
    "### Soru 2\n",
    "\n",
    "Bir global değişken tanımlayıp bu değişkene bir fonksiyon erişip değerini değiştiriniz.(Fonksiyonun değer değiştirme dışında bir şey yapmasına gerek yoktur.)"
   ]
  },
  {
   "cell_type": "markdown",
   "metadata": {},
   "source": [
    "### Soru 3\n",
    "\n",
    "* Aşağıdaki kod bloğu çalıştığında çıkan sonuç ne olur?\n",
    "* Hata verir mi? Verirse neyden kaynaklı bir hata verir ve nasıl düzeltebiliriz?\n",
    "\n",
    "```python\n",
    "\n",
    "globalVariable = 50\n",
    "\n",
    "def add50toGlobal():\n",
    "    globalVariable += 50\n",
    "\n",
    "def add30toGlobal():\n",
    "    globalVariable += 30\n",
    "\n",
    "def add10toGlobal():\n",
    "    global globalVariable\n",
    "    globalVariable += 10\n",
    "\n",
    "add10toGlobal()\n",
    "add30toGlobal()\n",
    "\n",
    "print(globalVariable)\n",
    "\n",
    "```"
   ]
  },
  {
   "cell_type": "markdown",
   "metadata": {},
   "source": [
    "### Soru 4\n",
    "\n",
    "Aşağıdaki kod bloğunun istenilen çıktıyı vermesi için gerekli değişikleri yapınız. \n",
    "\n",
    "- İstenilen Çıktı *'Hello Sisters'*"
   ]
  },
  {
   "cell_type": "code",
   "execution_count": null,
   "metadata": {},
   "outputs": [],
   "source": [
    "helloStr = None\n",
    "sistersStr = None\n",
    "conditionVal = None\n",
    "\n",
    "if helloStr == 'Hello' and sistersStr == 'Sisters' and conditionVal is float and conditionVal > 5:\n",
    "    print(helloStr,sistersStr)"
   ]
  },
  {
   "cell_type": "markdown",
   "metadata": {},
   "source": [
    "### Soru 5\n",
    "\n",
    "Kullanıcıdan 2 sayı alın ve bunları karşılaştırıp, \n",
    "- Sayılar eşit ise 'Sayılar Eşittir' yazdırınız.\n",
    "- Eşit değilse;\n",
    "    - Büyükten 5 çıkartıp ekrana yazdırınız.\n",
    "    - Küçüğü 3 ile çarpıp ekrana yazdırınız. "
   ]
  },
  {
   "cell_type": "markdown",
   "metadata": {},
   "source": [
    "### Soru 6\n",
    "Kullanıcıdan alınan sayının tam bölenlerini ekrana yazdırınız."
   ]
  },
  {
   "cell_type": "markdown",
   "metadata": {},
   "source": [
    "### Soru 7\n",
    "\n",
    "Kullanıcıdan bir sayı alınız ve bu sayının faktöriyelini hesaplayınız."
   ]
  },
  {
   "cell_type": "markdown",
   "metadata": {},
   "source": [
    "### Soru 8\n",
    "\n",
    "Verilen tam sayı 'n' için n'den küçük olan ve negatif olmayan sayıların karelerini ekrana yazdırınız.\n",
    "\n",
    "Örneğin 6 sayısı için ekranda şu şekilde bir çıktı olmalıdır ;\n",
    "\n"
    "0\n",
    "1\n",
    "4\n",
    "9\n",
    "16\n",
    "25"
   ]
  },
  {
   "cell_type": "markdown",
   "metadata": {},
   "source": [
    "### Soru 9\n",
    "\n",
    "Kullanıcıdan bir sayı alınız ve sonrasında alınan sayıya kadar olan sayılardan oluşan alttaki piramiti oluşturunuz.\n",
    "\n",
    "Örnek: Kullanıcı '5' değerini girdiyse;\n",
    "```\n",
    "1\n",
    "1 2\n",
    "1 2 3\n",
    "1 2 3 4\n",
    "1 2 3 4 5\n",
    "```"
   ]
  },
  {
   "cell_type": "markdown",
   "metadata": {},
   "source": [
    "### Soru 10\n",
    "\n",
    "Aşağıdaki şekli oluşturunuz.\n",
    "```\n",
    "     * \n",
    "    * * \n",
    "   * * * \n",
    "  * * * * \n",
    " * * * * * \n",
    "* * * * * * \n",
    " * * * * * \n",
    "  * * * * \n",
    "   * * * \n",
    "    * * \n",
    "     * \n",
    "```\n",
    "\n"
   ]
  }
 ],
 "metadata": {
  "kernelspec": {
   "display_name": "Python 3.10.5 64-bit",
   "language": "python",
   "name": "python3"
  },
  "language_info": {
   "codemirror_mode": {
    "name": "ipython",
    "version": 3
   },
   "file_extension": ".py",
   "mimetype": "text/x-python",
   "name": "python",
   "nbconvert_exporter": "python",
   "pygments_lexer": "ipython3",
   "version": "3.10.5"
  },
  "orig_nbformat": 4,
  "vscode": {
   "interpreter": {
    "hash": "d7cdd4bd10924f2a5600f3e3f8ff8c4f45ce4e033c01be5511cc2e78bc05c683"
   }
  }
 },
 "nbformat": 4,
 "nbformat_minor": 2
}
