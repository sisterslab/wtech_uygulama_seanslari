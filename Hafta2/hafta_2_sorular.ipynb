{
 "cells": [
  {
   "cell_type": "markdown",
   "metadata": {},
   "source": [
    "### Soru 1\n",
    "\n",
    "3 tane farklı değişken tanımlayıp bu değişkenlerin hepsine aynı değeri atınız ve bunu olabilecek en kısa yoldan yapınız :)\n"
   ]
  },
  {
   "cell_type": "markdown",
   "metadata": {},
   "source": [
    "### Soru 2\n",
    "\n",
    "Bir global değişken tanımlayıp bu değişkene bir fonksiyon erişip değerini değiştiriniz.(Fonksiyonun değer değiştirme dışında bir şey yapmasına gerek yoktur.)"
   ]
  },
  {
   "cell_type": "markdown",
   "metadata": {},
   "source": [
    "### Soru 3\n",
    "\n",
    "* Aşağıdaki kod bloğu çalıştığında çıkan sonuç ne olur?\n",
    "* Hata verir mi? Verirse neyden kaynaklı bir hata verir ve nasıl düzeltebiliriz?\n",
    "\n",
    "```python\n",
    "\n",
    "globalVariable = 50\n",
    "\n",
    "def add50toGlobal():\n",
    "    globalVariable += 50\n",
    "\n",
    "def add30toGlobal():\n",
    "    globalVariable += 30\n",
    "\n",
    "def add10toGlobal():\n",
    "    global globalVariable\n",
    "    globalVariable += 10\n",
    "\n",
    "add10toGlobal()\n",
    "add30toGlobal()\n",
    "\n",
    "print(globalVariable)\n",
    "\n",
    "```"
   ]
  },
  {
   "cell_type": "markdown",
   "metadata": {},
   "source": [
    "### Soru 4\n",
    "\n",
    "Aşağıdaki kod bloğunun istenilen çıktıyı vermesi için gerekli değişikleri yapınız. \n",
    "\n",
    "- İstenilen Çıktı *'Hello Sisters'*"
   ]
  },
  {
   "cell_type": "code",
   "execution_count": null,
   "metadata": {},
   "outputs": [],
   "source": [
    "helloStr = None\n",
    "sistersStr = None\n",
    "conditionVal = None\n",
    "\n",
    "if helloStr == 'Hello' and sistersStr == 'Sisters' and type(conditionVal) is float and conditionVal > 5:\n",
    "    print(helloStr,sistersStr)"
   ]
  },
  {
   "cell_type": "markdown",
   "metadata": {},
   "source": [
    "### SORU 5\n",
    "\n",
    "Klavyeden girilen vize ve final notuna göre vizenin %40 ve finalin %60’ını alan ve sonucu ekranda gösteren kodu yazınız."
   ]
  },
  {
   "cell_type": "markdown",
   "metadata": {},
   "source": [
    "### Soru 6\n",
    "\n",
    "Kullanıcıdan 2 sayı alın ve bunları karşılaştırıp, \n",
    "- Sayılar eşit ise 'Sayılar Eşittir' yazdırınız.\n",
    "- Eşit değilse;\n",
    "    - Büyükten 5 çıkartıp ekrana yazdırınız.\n",
    "    - Küçüğü 3 ile çarpıp ekrana yazdırınız. "
   ]
  },
  {
   "cell_type": "markdown",
   "metadata": {},
   "source": [
    "### Soru 7\n",
    "\n",
    "Klavyeden girilen iki sayı arasındaki sayıları toplayan kodu  yazınız."
   ]
  },
  {
   "cell_type": "markdown",
   "metadata": {},
   "source": [
    "### Soru 8\n",
    "\n",
    "Kullanıcıdan not ortalamasını girmesini isteyiniz. Not ortalamasına göre sınıf geçme durumunu gösteren kodu yazınız.\n",
    "\n",
    "Sınıf geçme şartları:\n",
    "\n",
    "-(0-50 arasında ise \"Kaldınız\", \n",
    "\n",
    "-50-100 aralığında ise \"Geçtiniz\", \n",
    "\n",
    "-Bu aralığa uymuyorsa \"Hatalı Değer\" mesajlarını ekrana yazdırınız.)"
   ]
  },
  {
   "cell_type": "markdown",
   "metadata": {},
   "source": [
    "### Soru 9\n",
    "Kullanıcıdan alınan sayının tam bölenlerini ekrana yazdırınız."
   ]
  },
  {
   "cell_type": "markdown",
   "metadata": {},
   "source": [
    "### Soru 10\n",
    "\n",
    "Kullanıcıdan bir sayı alınız ve bu sayının faktöriyelini hesaplayınız."
   ]
  },
  {
   "cell_type": "markdown",
   "metadata": {},
   "source": [
    "### Soru 11\n",
    "\n",
    "Verilen tam sayı 'n' için n'den küçük olan ve negatif olmayan sayıların karelerini ekrana yazdırınız.\n",
    "\n",
    "Örneğin 6 sayısı için ekranda şu şekilde bir çıktı olmalıdır ;\n",
    "\n",
    "- 0\n",
    "- 1\n",
    "- 4\n",
    "- 9\n",
    "- 16\n",
    "- 25"
   ]
  },
  {
   "cell_type": "markdown",
   "metadata": {},
   "source": [
    "### Soru 12\n",
    "\n",
    "Kullanıcıdan bir metin girmesini isteyin ve girilen bu metinde bulunan sesli harflerin sayısını ekranda gösteren kodu yazın."
   ]
  },
  {
   "cell_type": "markdown",
   "metadata": {},
   "source": [
    "### Soru 13\n",
    "\n",
    "Kullanıcıdan bir sayı alınız ve sonrasında alınan sayıya kadar olan sayılardan oluşan alttaki piramiti oluşturunuz.\n",
    "\n",
    "Örnek: Kullanıcı '5' değerini girdiyse;\n",
    "```\n",
    "1\n",
    "1 2\n",
    "1 2 3\n",
    "1 2 3 4\n",
    "1 2 3 4 5\n",
    "```"
   ]
  },
  {
   "cell_type": "markdown",
   "metadata": {},
   "source": [
    "### Soru 14\n",
    "\n",
    "Aşağıdaki şekli oluşturunuz.\n",
    "```\n",
    "     * \n",
    "    * * \n",
    "   * * * \n",
    "  * * * * \n",
    " * * * * * \n",
    "* * * * * * \n",
    " * * * * * \n",
    "  * * * * \n",
    "   * * * \n",
    "    * * \n",
    "     * \n",
    "```\n",
    "\n"
   ]
  },
  {
   "cell_type": "markdown",
   "metadata": {},
   "source": [
    "### Soru XXX\n",
    "\n",
    "Klavyeden girilen sayıya kadar olan sayılardan tek sayıların toplamını ve çift sayıların toplamını ayrı ayrı bulan kodu yazınız."
   ]
  },
  {
   "cell_type": "markdown",
   "metadata": {},
   "source": [
    "### Soru XXX\n",
    "Kullanıcı 'q' harfine basmadığı sürece kullanıcıdan sürekli olarak tam sayı alınız. Aldığınız tam sayıların;\n",
    "* Toplamını yazdırınız. \n",
    "* En büyüğünü yazdırınız.\n",
    "* En küçüğünü yazdırınız.\n",
    "* Ortalamasını yazdırınız.\n"
   ]
  },
  {
   "cell_type": "markdown",
   "metadata": {},
   "source": [
    "### Soru XXX\n",
    "Verilen iki sayının EBOB'unu ve EKOK'unu hesaplayın. "
   ]
  },
  {
   "cell_type": "markdown",
   "metadata": {},
   "source": [
    "### Soru XXX\n",
    "\n",
    "Aşağıdaki deseni oluşturunuz.\n",
    "\n",
    "```python \n",
    "*\n",
    " **\n",
    "***\n",
    "   ****\n",
    "*****\n",
    "     ******\n",
    "*******\n",
    "       ********\n",
    "*********\n",
    "         **********\n",
    "```"
   ]
  }
 ],
 "metadata": {
  "kernelspec": {
   "display_name": "Python 3.10.5 64-bit",
   "language": "python",
   "name": "python3"
  },
  "language_info": {
   "codemirror_mode": {
    "name": "ipython",
    "version": 3
   },
   "file_extension": ".py",
   "mimetype": "text/x-python",
   "name": "python",
   "nbconvert_exporter": "python",
   "pygments_lexer": "ipython3",
   "version": "3.10.5"
  },
  "orig_nbformat": 4,
  "vscode": {
   "interpreter": {
    "hash": "d7cdd4bd10924f2a5600f3e3f8ff8c4f45ce4e033c01be5511cc2e78bc05c683"
   }
  }
 },
 "nbformat": 4,
 "nbformat_minor": 2
}
